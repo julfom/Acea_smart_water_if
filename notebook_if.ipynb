{
 "cells": [
  {
   "cell_type": "markdown",
   "metadata": {},
   "source": [
    "Import files and libraries"
   ]
  },
  {
   "cell_type": "code",
   "execution_count": 2,
   "metadata": {},
   "outputs": [
    {
     "name": "stderr",
     "output_type": "stream",
     "text": [
      "Importing plotly failed. Interactive plots will not work.\n"
     ]
    }
   ],
   "source": [
    "import pandas as pd\n",
    "import numpy as np\n",
    "import matplotlib.pyplot as plt \n",
    "import seaborn as sns\n",
    "from sklearn.metrics import accuracy_score\n",
    "from sklearn.metrics import classification_report\n",
    "from statsmodels.graphics.tsaplots import plot_acf\n",
    "import os\n",
    "from colorama import Fore\n",
    "from prophet import Prophet\n",
    "from sklearn.metrics import mean_absolute_error\n",
    "from sklearn.metrics import mean_squared_error\n",
    "np.random.seed(7)"
   ]
  },
  {
   "cell_type": "markdown",
   "metadata": {},
   "source": [
    "1) Import and Preprocess Each Dataset: Load each dataset and clean the data as needed."
   ]
  },
  {
   "cell_type": "code",
   "execution_count": 3,
   "metadata": {},
   "outputs": [],
   "source": [
    "petrignano = pd.read_csv(\"data/raw/Aquifer_Petrignano.csv\")\n",
    "auser = pd.read_csv(\"data/raw/Aquifer_Auser.csv\")\n",
    "doganella = pd.read_csv(\"data/raw/Aquifer_Doganella.csv\")\n",
    "luco = pd.read_csv(\"data/raw/Aquifer_Luco.csv\")\n",
    "amiata = pd.read_csv(\"data/raw/Water_Spring_Amiata.csv\")\n",
    "madonna = pd.read_csv(\"data/raw/Water_Spring_Madonna_di_Canneto.csv\")\n",
    "lupa= pd.read_csv(\"data/raw/Water_Spring_Lupa.csv\")\n",
    "arno= pd.read_csv(\"data/raw/River_Arno.csv\")\n",
    "bilancino= pd.read_csv(\"data/raw/Lake_Bilancino.csv\")"
   ]
  },
  {
   "cell_type": "markdown",
   "metadata": {},
   "source": [
    "Petrignano is a problematic dataset, needs separate attention"
   ]
  },
  {
   "cell_type": "code",
   "execution_count": 4,
   "metadata": {},
   "outputs": [
    {
     "name": "stderr",
     "output_type": "stream",
     "text": [
      "/tmp/ipykernel_9417/2378191940.py:18: UserWarning: Parsing dates in %d/%m/%Y format when dayfirst=False (the default) was specified. Pass `dayfirst=True` or specify a format to silence this warning.\n",
      "  waterbody['Date'] = pd.to_datetime(waterbody['Date'], errors='coerce')\n"
     ]
    },
    {
     "name": "stdout",
     "output_type": "stream",
     "text": [
      "clean_waterbody\n"
     ]
    }
   ],
   "source": [
    "import pandas as pd\n",
    "\n",
    "# Define waterbody datasets\n",
    "waterbodies = [petrignano, auser, doganella, luco, amiata, madonna, lupa, arno, bilancino]\n",
    "\n",
    "targets = ['Depth_to_Groundwater_SAL', 'Depth_to_Groundwater_COS', 'Depth_to_Groundwater_LT2',\n",
    "           'Depth_to_Groundwater_P24', 'Depth_to_Groundwater_P25', 'Depth_to_Groundwater_Pozzo_1', \n",
    "           'Depth_to_Groundwater_Pozzo_2', 'Depth_to_Groundwater_Pozzo_3', 'Depth_to_Groundwater_Pozzo_4', \n",
    "           'Depth_to_Groundwater_Pozzo_5', 'Depth_to_Groundwater_Pozzo_6', 'Depth_to_Groundwater_Pozzo_7',\n",
    "           'Depth_to_Groundwater_Pozzo_8', 'Depth_to_Groundwater_Pozzo_9', 'Depth_to_Groundwater_Podere_Casetta',\n",
    "           'Flow_Rate_Bugnano', 'Flow_Rate_Arbure', 'Flow_Rate_Emricciolo', 'Flow_Rate_Galleria_Alta',\n",
    "           'Flow_Rate_Madonna_di_Canneto', 'Flow_Rate_Lupa', 'Hydrometry_Nave_di_Rosano', 'Lake_Level',\n",
    "           'Flow_Rate']\n",
    "\n",
    "\n",
    "def clean_waterbody(waterbody, targets):\n",
    "   \n",
    "    waterbody['Date'] = pd.to_datetime(waterbody['Date'], errors='coerce')\n",
    "    \n",
    "    if 'targets' in waterbody.columns:\n",
    "        waterbody = waterbody[waterbody['targets'].notna()].reset_index(drop=True)\n",
    "    \n",
    "    features = [col for col in waterbody.columns if col not in targets]\n",
    "    \n",
    "    if 'delta' in waterbody.columns:\n",
    "        waterbody = waterbody.drop('delta', axis=1)\n",
    "    \n",
    "    waterbody = waterbody.dropna()  # Drop rows with missing values\n",
    "    \n",
    "    return waterbody\n",
    "\n",
    "\n",
    "cleaned_waterbodies = []\n",
    "for waterbody in waterbodies:\n",
    "    cleaned_waterbodies.append(clean_waterbody(waterbody, targets))\n",
    "\n",
    "\n",
    "cleaned_petrignano = cleaned_waterbodies[0]\n",
    "cleaned_petrignano.head() \n",
    "print(\"clean_waterbody\")"
   ]
  },
  {
   "cell_type": "markdown",
   "metadata": {},
   "source": [
    "2) Create and Train Prophet Models: For each feature (target), create a Prophet model, using any other relevant features (e.g., rainfall, temperature, or other external regressors) as inputs.\n"
   ]
  },
  {
   "cell_type": "code",
   "execution_count": 5,
   "metadata": {},
   "outputs": [],
   "source": [
    "from prophet import Prophet\n",
    "import pandas as pd\n",
    "\n",
    "# Cleaned_waterbodies is a list of cleaned datasets from the previous code\n",
    "# Create a list of target features per waterbody\n",
    "target_features_dict = {\n",
    "    'Aquifer_Auser': ['Depth_to_Groundwater_SAL', 'Depth_to_Groundwater_COS', 'Depth_to_Groundwater_LT2'],\n",
    "    'Aquifer_Petrignano': ['Depth_to_Groundwater_P24', 'Depth_to_Groundwater_P25'],\n",
    "    'Aquifer_Doganella': ['Depth_to_Groundwater_Pozzo_1', 'Depth_to_Groundwater_Pozzo_2', 'Depth_to_Groundwater_Pozzo_3', \n",
    "                          'Depth_to_Groundwater_Pozzo_4', 'Depth_to_Groundwater_Pozzo_5', 'Depth_to_Groundwater_Pozzo_6', \n",
    "                          'Depth_to_Groundwater_Pozzo_7', 'Depth_to_Groundwater_Pozzo_8', 'Depth_to_Groundwater_Pozzo_9'],\n",
    "    'Aquifer_Luco': ['Depth_to_Groundwater_Podere_Casetta'],\n",
    "    'Water_Spring_Amiata': ['Flow_Rate_Bugnano', 'Flow_Rate_Arbure', 'Flow_Rate_Emricciolo', 'Flow_Rate_Galleria_Alta'],\n",
    "    'Water_Spring_Madonna_di_Canneto': ['Flow_Rate_Madonna_di_Canneto'],\n",
    "    'Water_Spring_Lupa': ['Flow_Rate_Lupa'],\n",
    "    'River_Arno': ['Hydrometry_Nave_di_Rosano'],\n",
    "    'Lake_Bilancino': ['Lake_Level', 'Flow_Rate']\n",
    "}\n"
   ]
  },
  {
   "cell_type": "markdown",
   "metadata": {},
   "source": [
    "3) Make Predictions: Use the trained Prophet models to predict the future values of the target features."
   ]
  },
  {
   "cell_type": "code",
   "execution_count": 6,
   "metadata": {},
   "outputs": [
    {
     "name": "stderr",
     "output_type": "stream",
     "text": [
      "00:50:03 - cmdstanpy - INFO - Chain [1] start processing\n"
     ]
    },
    {
     "name": "stderr",
     "output_type": "stream",
     "text": [
      "00:50:03 - cmdstanpy - INFO - Chain [1] done processing\n",
      "00:50:03 - cmdstanpy - INFO - Chain [1] start processing\n",
      "00:50:04 - cmdstanpy - INFO - Chain [1] done processing\n"
     ]
    },
    {
     "name": "stdout",
     "output_type": "stream",
     "text": [
      "Model fitted for Aquifer_Doganella on target Depth_to_Groundwater_Pozzo_1. Predictions available.\n",
      "Model fitted for Aquifer_Doganella on target Depth_to_Groundwater_Pozzo_2. Predictions available.\n"
     ]
    },
    {
     "name": "stderr",
     "output_type": "stream",
     "text": [
      "00:50:04 - cmdstanpy - INFO - Chain [1] start processing\n",
      "00:50:04 - cmdstanpy - INFO - Chain [1] done processing\n",
      "00:50:04 - cmdstanpy - INFO - Chain [1] start processing\n",
      "00:50:04 - cmdstanpy - INFO - Chain [1] done processing\n"
     ]
    },
    {
     "name": "stdout",
     "output_type": "stream",
     "text": [
      "Model fitted for Aquifer_Doganella on target Depth_to_Groundwater_Pozzo_3. Predictions available.\n",
      "Model fitted for Aquifer_Doganella on target Depth_to_Groundwater_Pozzo_4. Predictions available.\n"
     ]
    },
    {
     "name": "stderr",
     "output_type": "stream",
     "text": [
      "00:50:04 - cmdstanpy - INFO - Chain [1] start processing\n",
      "00:50:04 - cmdstanpy - INFO - Chain [1] done processing\n",
      "00:50:04 - cmdstanpy - INFO - Chain [1] start processing\n"
     ]
    },
    {
     "name": "stdout",
     "output_type": "stream",
     "text": [
      "Model fitted for Aquifer_Doganella on target Depth_to_Groundwater_Pozzo_5. Predictions available.\n"
     ]
    },
    {
     "name": "stderr",
     "output_type": "stream",
     "text": [
      "00:50:05 - cmdstanpy - INFO - Chain [1] done processing\n",
      "00:50:05 - cmdstanpy - INFO - Chain [1] start processing\n",
      "00:50:05 - cmdstanpy - INFO - Chain [1] done processing\n"
     ]
    },
    {
     "name": "stdout",
     "output_type": "stream",
     "text": [
      "Model fitted for Aquifer_Doganella on target Depth_to_Groundwater_Pozzo_6. Predictions available.\n"
     ]
    },
    {
     "name": "stderr",
     "output_type": "stream",
     "text": [
      "00:50:05 - cmdstanpy - INFO - Chain [1] start processing\n",
      "00:50:05 - cmdstanpy - INFO - Chain [1] done processing\n"
     ]
    },
    {
     "name": "stdout",
     "output_type": "stream",
     "text": [
      "Model fitted for Aquifer_Doganella on target Depth_to_Groundwater_Pozzo_7. Predictions available.\n"
     ]
    },
    {
     "name": "stderr",
     "output_type": "stream",
     "text": [
      "00:50:05 - cmdstanpy - INFO - Chain [1] start processing\n",
      "00:50:05 - cmdstanpy - INFO - Chain [1] done processing\n"
     ]
    },
    {
     "name": "stdout",
     "output_type": "stream",
     "text": [
      "Model fitted for Aquifer_Doganella on target Depth_to_Groundwater_Pozzo_8. Predictions available.\n"
     ]
    },
    {
     "name": "stderr",
     "output_type": "stream",
     "text": [
      "00:50:05 - cmdstanpy - INFO - Chain [1] start processing\n",
      "00:50:05 - cmdstanpy - INFO - Chain [1] done processing\n",
      "00:50:05 - cmdstanpy - INFO - Chain [1] start processing\n",
      "00:50:05 - cmdstanpy - INFO - Chain [1] done processing\n"
     ]
    },
    {
     "name": "stdout",
     "output_type": "stream",
     "text": [
      "Model fitted for Aquifer_Doganella on target Depth_to_Groundwater_Pozzo_9. Predictions available.\n",
      "Model fitted for Aquifer_Luco on target Depth_to_Groundwater_Podere_Casetta. Predictions available.\n"
     ]
    },
    {
     "name": "stderr",
     "output_type": "stream",
     "text": [
      "00:50:06 - cmdstanpy - INFO - Chain [1] start processing\n",
      "00:50:06 - cmdstanpy - INFO - Chain [1] done processing\n"
     ]
    },
    {
     "name": "stdout",
     "output_type": "stream",
     "text": [
      "Model fitted for Water_Spring_Amiata on target Flow_Rate_Bugnano. Predictions available.\n",
      "Model fitted for Water_Spring_Amiata on target Flow_Rate_Arbure. Predictions available.\n"
     ]
    },
    {
     "name": "stderr",
     "output_type": "stream",
     "text": [
      "00:50:06 - cmdstanpy - INFO - Chain [1] start processing\n",
      "00:50:06 - cmdstanpy - INFO - Chain [1] done processing\n",
      "00:50:06 - cmdstanpy - INFO - Chain [1] start processing\n",
      "00:50:06 - cmdstanpy - INFO - Chain [1] done processing\n"
     ]
    },
    {
     "name": "stdout",
     "output_type": "stream",
     "text": [
      "Model fitted for Water_Spring_Amiata on target Flow_Rate_Galleria_Alta. Predictions available.\n",
      "Model fitted for Water_Spring_Madonna_di_Canneto on target Flow_Rate_Madonna_di_Canneto. Predictions available.\n"
     ]
    },
    {
     "name": "stderr",
     "output_type": "stream",
     "text": [
      "00:50:06 - cmdstanpy - INFO - Chain [1] start processing\n",
      "00:50:06 - cmdstanpy - INFO - Chain [1] done processing\n",
      "00:50:07 - cmdstanpy - INFO - Chain [1] start processing\n",
      "00:50:07 - cmdstanpy - INFO - Chain [1] done processing\n"
     ]
    },
    {
     "name": "stdout",
     "output_type": "stream",
     "text": [
      "Model fitted for Water_Spring_Lupa on target Flow_Rate_Lupa. Predictions available.\n",
      "Model fitted for River_Arno on target Hydrometry_Nave_di_Rosano. Predictions available.\n"
     ]
    },
    {
     "name": "stderr",
     "output_type": "stream",
     "text": [
      "00:50:07 - cmdstanpy - INFO - Chain [1] start processing\n",
      "00:50:07 - cmdstanpy - INFO - Chain [1] done processing\n",
      "00:50:08 - cmdstanpy - INFO - Chain [1] start processing\n"
     ]
    },
    {
     "name": "stdout",
     "output_type": "stream",
     "text": [
      "Model fitted for Lake_Bilancino on target Lake_Level. Predictions available.\n"
     ]
    },
    {
     "name": "stderr",
     "output_type": "stream",
     "text": [
      "00:50:08 - cmdstanpy - INFO - Chain [1] done processing\n"
     ]
    },
    {
     "name": "stdout",
     "output_type": "stream",
     "text": [
      "Model fitted for Lake_Bilancino on target Flow_Rate. Predictions available.\n"
     ]
    }
   ],
   "source": [
    "# Loop through cleaned waterbodies and fit Prophet models for available targets\n",
    "prophet_models = {}\n",
    "predictions = {}\n",
    "\n",
    "for i, waterbody in enumerate(cleaned_waterbodies):\n",
    "    # Get the name of the dataset (assuming the order corresponds to the original names)\n",
    "    waterbody_name = list(target_features_dict.keys())[i]\n",
    "    target_features = target_features_dict[waterbody_name]\n",
    "    \n",
    "    # Loop through each target feature for the current waterbody\n",
    "    for target in target_features:\n",
    "        if target in waterbody.columns:\n",
    "            # Prepare the data for Prophet\n",
    "            petrignano_prophet = waterbody[['Date', target]].rename(columns={'Date': 'ds', target: 'y'})\n",
    "\n",
    "            # Initialize and fit the Prophet model\n",
    "            model = Prophet()\n",
    "            model.fit(petrignano_prophet)\n",
    "\n",
    "            # Make future predictions (e.g., for the next 30 days)\n",
    "            future = model.make_future_dataframe(periods=30)\n",
    "            forecast = model.predict(future)\n",
    "\n",
    "            # Store the fitted model and predictions\n",
    "            prophet_models[f\"{waterbody_name}_{target}\"] = model\n",
    "            predictions[f\"{waterbody_name}_{target}\"] = forecast[['ds', 'yhat', 'yhat_lower', 'yhat_upper']]\n",
    "\n",
    "            print(f\"Model fitted for {waterbody_name} on target {target}. Predictions available.\")\n",
    "\n"
   ]
  },
  {
   "cell_type": "code",
   "execution_count": 7,
   "metadata": {},
   "outputs": [
    {
     "name": "stdout",
     "output_type": "stream",
     "text": [
      "            ds       yhat  yhat_lower  yhat_upper\n",
      "0   2019-01-04 -42.544791  -49.832888  -34.914521\n",
      "1   2019-01-06 -42.254655  -49.067189  -34.725782\n",
      "2   2019-01-08 -41.631579  -49.399020  -34.118827\n",
      "3   2019-01-09 -42.647670  -50.283432  -35.345012\n",
      "4   2019-02-04 -41.550684  -48.700657  -34.166616\n",
      "..         ...        ...         ...         ...\n",
      "102 2020-12-31 -47.882703  -55.685189  -40.192312\n",
      "103 2021-01-01 -48.570875  -56.261050  -41.266755\n",
      "104 2021-01-02 -47.631801  -55.529291  -39.679565\n",
      "105 2021-01-03 -48.280833  -55.483491  -40.285926\n",
      "106 2021-01-04 -47.345974  -55.121644  -39.858822\n",
      "\n",
      "[107 rows x 4 columns]\n"
     ]
    }
   ],
   "source": [
    "# Example: Access the predictions for a specific target\n",
    "example_predictions = predictions.get('Aquifer_Doganella_Depth_to_Groundwater_Pozzo_1', None)\n",
    "print(example_predictions)"
   ]
  },
  {
   "cell_type": "code",
   "execution_count": 8,
   "metadata": {},
   "outputs": [
    {
     "name": "stdout",
     "output_type": "stream",
     "text": [
      "Available predictions keys:\n",
      "Aquifer_Doganella_Depth_to_Groundwater_Pozzo_1\n",
      "Aquifer_Doganella_Depth_to_Groundwater_Pozzo_2\n",
      "Aquifer_Doganella_Depth_to_Groundwater_Pozzo_3\n",
      "Aquifer_Doganella_Depth_to_Groundwater_Pozzo_4\n",
      "Aquifer_Doganella_Depth_to_Groundwater_Pozzo_5\n",
      "Aquifer_Doganella_Depth_to_Groundwater_Pozzo_6\n",
      "Aquifer_Doganella_Depth_to_Groundwater_Pozzo_7\n",
      "Aquifer_Doganella_Depth_to_Groundwater_Pozzo_8\n",
      "Aquifer_Doganella_Depth_to_Groundwater_Pozzo_9\n",
      "Aquifer_Luco_Depth_to_Groundwater_Podere_Casetta\n",
      "Water_Spring_Amiata_Flow_Rate_Bugnano\n",
      "Water_Spring_Amiata_Flow_Rate_Arbure\n",
      "Water_Spring_Amiata_Flow_Rate_Galleria_Alta\n",
      "Water_Spring_Madonna_di_Canneto_Flow_Rate_Madonna_di_Canneto\n",
      "Water_Spring_Lupa_Flow_Rate_Lupa\n",
      "River_Arno_Hydrometry_Nave_di_Rosano\n",
      "Lake_Bilancino_Lake_Level\n",
      "Lake_Bilancino_Flow_Rate\n",
      "          ds       yhat  yhat_lower  yhat_upper\n",
      "0 2019-01-04 -42.544791  -49.832888  -34.914521\n",
      "1 2019-01-06 -42.254655  -49.067189  -34.725782\n",
      "2 2019-01-08 -41.631579  -49.399020  -34.118827\n",
      "3 2019-01-09 -42.647670  -50.283432  -35.345012\n",
      "4 2019-02-04 -41.550684  -48.700657  -34.166616\n"
     ]
    }
   ],
   "source": [
    "print(\"Available predictions keys:\")\n",
    "for key in predictions.keys():\n",
    "    print(key)\n",
    "\n",
    "if example_predictions is not None:\n",
    "    print(example_predictions.head())\n",
    "else:\n",
    "    print(\"No predictions available for this {key} target.\")"
   ]
  },
  {
   "cell_type": "code",
   "execution_count": 9,
   "metadata": {},
   "outputs": [
    {
     "name": "stdout",
     "output_type": "stream",
     "text": [
      "dict_keys(['Aquifer_Doganella_Depth_to_Groundwater_Pozzo_1', 'Aquifer_Doganella_Depth_to_Groundwater_Pozzo_2', 'Aquifer_Doganella_Depth_to_Groundwater_Pozzo_3', 'Aquifer_Doganella_Depth_to_Groundwater_Pozzo_4', 'Aquifer_Doganella_Depth_to_Groundwater_Pozzo_5', 'Aquifer_Doganella_Depth_to_Groundwater_Pozzo_6', 'Aquifer_Doganella_Depth_to_Groundwater_Pozzo_7', 'Aquifer_Doganella_Depth_to_Groundwater_Pozzo_8', 'Aquifer_Doganella_Depth_to_Groundwater_Pozzo_9', 'Aquifer_Luco_Depth_to_Groundwater_Podere_Casetta', 'Water_Spring_Amiata_Flow_Rate_Bugnano', 'Water_Spring_Amiata_Flow_Rate_Arbure', 'Water_Spring_Amiata_Flow_Rate_Galleria_Alta', 'Water_Spring_Madonna_di_Canneto_Flow_Rate_Madonna_di_Canneto', 'Water_Spring_Lupa_Flow_Rate_Lupa', 'River_Arno_Hydrometry_Nave_di_Rosano', 'Lake_Bilancino_Lake_Level', 'Lake_Bilancino_Flow_Rate'])\n"
     ]
    }
   ],
   "source": [
    "print(predictions.keys())"
   ]
  },
  {
   "cell_type": "code",
   "execution_count": 11,
   "metadata": {},
   "outputs": [
    {
     "name": "stdout",
     "output_type": "stream",
     "text": [
      "No predictions available for Aquifer_Auser - Depth_to_Groundwater_SAL.\n",
      "No predictions available for Aquifer_Auser - Depth_to_Groundwater_COS.\n",
      "No predictions available for Aquifer_Auser - Depth_to_Groundwater_LT2.\n",
      "No predictions available for Aquifer_Petrignano - Depth_to_Groundwater_P24.\n",
      "No predictions available for Aquifer_Petrignano - Depth_to_Groundwater_P25.\n"
     ]
    },
    {
     "ename": "ValueError",
     "evalue": "The truth value of a DataFrame is ambiguous. Use a.empty, a.bool(), a.item(), a.any() or a.all().",
     "output_type": "error",
     "traceback": [
      "\u001b[0;31m---------------------------------------------------------------------------\u001b[0m",
      "\u001b[0;31mValueError\u001b[0m                                Traceback (most recent call last)",
      "\u001b[0;32m/tmp/ipykernel_9417/2519692979.py\u001b[0m in \u001b[0;36m?\u001b[0;34m()\u001b[0m\n\u001b[1;32m      8\u001b[0m \u001b[0;34m\u001b[0m\u001b[0m\n\u001b[1;32m      9\u001b[0m         \u001b[0;31m# Check if predictions exist for the current waterbody and target\u001b[0m\u001b[0;34m\u001b[0m\u001b[0;34m\u001b[0m\u001b[0m\n\u001b[1;32m     10\u001b[0m         \u001b[0;32mif\u001b[0m \u001b[0mprediction_key\u001b[0m \u001b[0;32min\u001b[0m \u001b[0mpredictions\u001b[0m\u001b[0;34m:\u001b[0m\u001b[0;34m\u001b[0m\u001b[0;34m\u001b[0m\u001b[0m\n\u001b[1;32m     11\u001b[0m             \u001b[0;31m# Get the cleaned data for the current waterbody\u001b[0m\u001b[0;34m\u001b[0m\u001b[0;34m\u001b[0m\u001b[0m\n\u001b[0;32m---> 12\u001b[0;31m             \u001b[0mindex\u001b[0m \u001b[0;34m=\u001b[0m \u001b[0mcleaned_waterbodies\u001b[0m\u001b[0;34m.\u001b[0m\u001b[0mindex\u001b[0m\u001b[0;34m(\u001b[0m\u001b[0mwaterbody_name\u001b[0m\u001b[0;34m)\u001b[0m\u001b[0;34m\u001b[0m\u001b[0;34m\u001b[0m\u001b[0m\n\u001b[0m\u001b[1;32m     13\u001b[0m             \u001b[0mcleaned_data\u001b[0m \u001b[0;34m=\u001b[0m \u001b[0mcleaned_waterbodies\u001b[0m\u001b[0;34m[\u001b[0m\u001b[0mindex\u001b[0m\u001b[0;34m]\u001b[0m\u001b[0;34m\u001b[0m\u001b[0;34m\u001b[0m\u001b[0m\n\u001b[1;32m     14\u001b[0m \u001b[0;34m\u001b[0m\u001b[0m\n\u001b[1;32m     15\u001b[0m             \u001b[0;31m# Extract actual observed data\u001b[0m\u001b[0;34m\u001b[0m\u001b[0;34m\u001b[0m\u001b[0m\n",
      "\u001b[0;32m/workspaces/Acea_smart_water_if/ifenv/lib/python3.10/site-packages/pandas/core/generic.py\u001b[0m in \u001b[0;36m?\u001b[0;34m(self)\u001b[0m\n\u001b[1;32m   1575\u001b[0m     \u001b[0;34m@\u001b[0m\u001b[0mfinal\u001b[0m\u001b[0;34m\u001b[0m\u001b[0;34m\u001b[0m\u001b[0m\n\u001b[1;32m   1576\u001b[0m     \u001b[0;32mdef\u001b[0m \u001b[0m__nonzero__\u001b[0m\u001b[0;34m(\u001b[0m\u001b[0mself\u001b[0m\u001b[0;34m)\u001b[0m \u001b[0;34m->\u001b[0m \u001b[0mNoReturn\u001b[0m\u001b[0;34m:\u001b[0m\u001b[0;34m\u001b[0m\u001b[0;34m\u001b[0m\u001b[0m\n\u001b[0;32m-> 1577\u001b[0;31m         raise ValueError(\n\u001b[0m\u001b[1;32m   1578\u001b[0m             \u001b[0;34mf\"The truth value of a {type(self).__name__} is ambiguous. \"\u001b[0m\u001b[0;34m\u001b[0m\u001b[0;34m\u001b[0m\u001b[0m\n\u001b[1;32m   1579\u001b[0m             \u001b[0;34m\"Use a.empty, a.bool(), a.item(), a.any() or a.all().\"\u001b[0m\u001b[0;34m\u001b[0m\u001b[0;34m\u001b[0m\u001b[0m\n\u001b[1;32m   1580\u001b[0m         )\n",
      "\u001b[0;31mValueError\u001b[0m: The truth value of a DataFrame is ambiguous. Use a.empty, a.bool(), a.item(), a.any() or a.all()."
     ]
    }
   ],
   "source": [
    "import matplotlib.pyplot as plt\n",
    "\n",
    "# Loop through the waterbody names and their corresponding target features\n",
    "for waterbody_name, targets in target_features_dict.items():\n",
    "    for target in targets:\n",
    "        # Construct the key to access predictions\n",
    "        prediction_key = f\"{waterbody_name}_{target}\"\n",
    "        \n",
    "        # Check if predictions exist for the current waterbody and target\n",
    "        if prediction_key in predictions:\n",
    "            # Get the cleaned data for the current waterbody\n",
    "            index = cleaned_waterbodies.index(waterbody_name)\n",
    "            cleaned_data = cleaned_waterbodies[index]\n",
    "            \n",
    "            # Extract actual observed data\n",
    "            actual_data = cleaned_data[['Date', target]].copy()\n",
    "            actual_data.columns = ['ds', 'y']  # Rename for Prophet format\n",
    "\n",
    "            plt.figure(figsize=(12, 6))\n",
    "\n",
    "            # Plot actual data\n",
    "            plt.plot(actual_data['ds'], actual_data['y'], label='Observed', color='blue', marker='o', markersize=3)\n",
    "\n",
    "            # Extract forecast data\n",
    "            forecast_data = predictions[prediction_key]\n",
    "\n",
    "            # Plot forecast\n",
    "            plt.plot(forecast_data['ds'], forecast_data['yhat'], label='Forecast', color='orange', linestyle='--')\n",
    "\n",
    "            # Plot uncertainty intervals\n",
    "            plt.fill_between(forecast_data['ds'], \n",
    "                             forecast_data['yhat_lower'], \n",
    "                             forecast_data['yhat_upper'], \n",
    "                             color='gray', alpha=0.2, label='Uncertainty Interval')\n",
    "\n",
    "            # Title and labels\n",
    "            plt.title(f'Predictions for {waterbody_name} - {target}')\n",
    "            plt.xlabel('Date')\n",
    "            plt.ylabel(target)\n",
    "            plt.legend()\n",
    "            plt.xticks(rotation=45)\n",
    "            plt.tight_layout()\n",
    "            \n",
    "            # Show the plot\n",
    "            plt.show()\n",
    "        else:\n",
    "            print(f\"No predictions available for {waterbody_name} - {target}.\")\n"
   ]
  },
  {
   "cell_type": "code",
   "execution_count": 12,
   "metadata": {},
   "outputs": [
    {
     "ename": "ValueError",
     "evalue": "'Aquifer' is not in list",
     "output_type": "error",
     "traceback": [
      "\u001b[0;31m---------------------------------------------------------------------------\u001b[0m",
      "\u001b[0;31mValueError\u001b[0m                                Traceback (most recent call last)",
      "Cell \u001b[0;32mIn[12], line 14\u001b[0m\n\u001b[1;32m     11\u001b[0m plt\u001b[38;5;241m.\u001b[39mfill_between(forecast[\u001b[38;5;124m'\u001b[39m\u001b[38;5;124mds\u001b[39m\u001b[38;5;124m'\u001b[39m], forecast[\u001b[38;5;124m'\u001b[39m\u001b[38;5;124myhat_lower\u001b[39m\u001b[38;5;124m'\u001b[39m], forecast[\u001b[38;5;124m'\u001b[39m\u001b[38;5;124myhat_upper\u001b[39m\u001b[38;5;124m'\u001b[39m], color\u001b[38;5;241m=\u001b[39m\u001b[38;5;124m'\u001b[39m\u001b[38;5;124mgray\u001b[39m\u001b[38;5;124m'\u001b[39m, alpha\u001b[38;5;241m=\u001b[39m\u001b[38;5;241m0.2\u001b[39m, label\u001b[38;5;241m=\u001b[39m\u001b[38;5;124m'\u001b[39m\u001b[38;5;124mUncertainty Interval\u001b[39m\u001b[38;5;124m'\u001b[39m)\n\u001b[1;32m     13\u001b[0m \u001b[38;5;66;03m# Plot the actual data if it exists\u001b[39;00m\n\u001b[0;32m---> 14\u001b[0m waterbody_index \u001b[38;5;241m=\u001b[39m \u001b[38;5;28;43mlist\u001b[39;49m\u001b[43m(\u001b[49m\u001b[43mtarget_features_dict\u001b[49m\u001b[38;5;241;43m.\u001b[39;49m\u001b[43mkeys\u001b[49m\u001b[43m(\u001b[49m\u001b[43m)\u001b[49m\u001b[43m)\u001b[49m\u001b[38;5;241;43m.\u001b[39;49m\u001b[43mindex\u001b[49m\u001b[43m(\u001b[49m\u001b[43mtarget\u001b[49m\u001b[38;5;241;43m.\u001b[39;49m\u001b[43msplit\u001b[49m\u001b[43m(\u001b[49m\u001b[38;5;124;43m'\u001b[39;49m\u001b[38;5;124;43m_\u001b[39;49m\u001b[38;5;124;43m'\u001b[39;49m\u001b[43m)\u001b[49m\u001b[43m[\u001b[49m\u001b[38;5;241;43m0\u001b[39;49m\u001b[43m]\u001b[49m\u001b[43m)\u001b[49m\n\u001b[1;32m     15\u001b[0m actual_values \u001b[38;5;241m=\u001b[39m cleaned_waterbodies[waterbody_index][target\u001b[38;5;241m.\u001b[39msplit(\u001b[38;5;124m'\u001b[39m\u001b[38;5;124m_\u001b[39m\u001b[38;5;124m'\u001b[39m)[\u001b[38;5;241m1\u001b[39m]]\n\u001b[1;32m     16\u001b[0m plt\u001b[38;5;241m.\u001b[39mplot(cleaned_waterbodies[waterbody_index][\u001b[38;5;124m'\u001b[39m\u001b[38;5;124mDate\u001b[39m\u001b[38;5;124m'\u001b[39m], actual_values, label\u001b[38;5;241m=\u001b[39m\u001b[38;5;124m\"\u001b[39m\u001b[38;5;124mActual\u001b[39m\u001b[38;5;124m\"\u001b[39m, color\u001b[38;5;241m=\u001b[39m\u001b[38;5;124m'\u001b[39m\u001b[38;5;124mred\u001b[39m\u001b[38;5;124m'\u001b[39m)\n",
      "\u001b[0;31mValueError\u001b[0m: 'Aquifer' is not in list"
     ]
    },
    {
     "data": {
      "image/png": "[encoded data removed]",
      "text/plain": [
       "<Figure size 1000x600 with 1 Axes>"
      ]
     },
     "metadata": {},
     "output_type": "display_data"
    }
   ],
   "source": [
    "for target in predictions.keys():\n",
    "    plt.figure(figsize=(10, 6))\n",
    "\n",
    "    # Get predicted values\n",
    "    forecast = predictions[target]\n",
    "\n",
    "    # Plot forecasted yhat values\n",
    "    plt.plot(forecast['ds'], forecast['yhat'], label=\"Predicted\")\n",
    "\n",
    "    # Plot confidence interval\n",
    "    plt.fill_between(forecast['ds'], forecast['yhat_lower'], forecast['yhat_upper'], color='gray', alpha=0.2, label='Uncertainty Interval')\n",
    "\n",
    "    # Plot the actual data if it exists\n",
    "    waterbody_index = list(target_features_dict.keys()).index(target.split('_')[0])\n",
    "    actual_values = cleaned_waterbodies[waterbody_index][target.split('_')[1]]\n",
    "    plt.plot(cleaned_waterbodies[waterbody_index]['Date'], actual_values, label=\"Actual\", color='red')\n",
    "\n",
    "    # Customize plot\n",
    "    plt.title(f\"Predictions vs Actual for {target}\")\n",
    "    plt.xlabel('Date')\n",
    "    plt.ylabel('Water Depth / Volume')\n",
    "    plt.legend()\n",
    "    plt.grid(True)\n",
    "    plt.show()"
   ]
  },
  {
   "cell_type": "markdown",
   "metadata": {},
   "source": [
    "4) Evaluate the Results: Check the accuracy (e.g., RMSE, MAE) of the predictions."
   ]
  },
  {
   "cell_type": "code",
   "execution_count": 59,
   "metadata": {},
   "outputs": [
    {
     "name": "stdout",
     "output_type": "stream",
     "text": [
      "No predictions available for Aquifer_Auser - Depth_to_Groundwater_SAL.\n",
      "No predictions available for Aquifer_Auser - Depth_to_Groundwater_COS.\n",
      "No predictions available for Aquifer_Auser - Depth_to_Groundwater_LT2.\n",
      "No predictions available for Aquifer_Petrignano - Depth_to_Groundwater_P24.\n",
      "No predictions available for Aquifer_Petrignano - Depth_to_Groundwater_P25.\n",
      "RMSE for Aquifer_Doganella - Depth_to_Groundwater_Pozzo_1: 6.02\n",
      "RMSE for Aquifer_Doganella - Depth_to_Groundwater_Pozzo_2: 0.41\n",
      "RMSE for Aquifer_Doganella - Depth_to_Groundwater_Pozzo_3: 2.97\n",
      "RMSE for Aquifer_Doganella - Depth_to_Groundwater_Pozzo_4: 0.39\n",
      "RMSE for Aquifer_Doganella - Depth_to_Groundwater_Pozzo_5: 0.09\n",
      "RMSE for Aquifer_Doganella - Depth_to_Groundwater_Pozzo_6: 1.53\n",
      "RMSE for Aquifer_Doganella - Depth_to_Groundwater_Pozzo_7: 0.60\n",
      "RMSE for Aquifer_Doganella - Depth_to_Groundwater_Pozzo_8: 0.68\n",
      "RMSE for Aquifer_Doganella - Depth_to_Groundwater_Pozzo_9: 0.66\n",
      "RMSE for Aquifer_Luco - Depth_to_Groundwater_Podere_Casetta: 0.33\n",
      "RMSE for Water_Spring_Amiata - Flow_Rate_Bugnano: 0.07\n",
      "RMSE for Water_Spring_Amiata - Flow_Rate_Arbure: 0.59\n",
      "No predictions available for Water_Spring_Amiata - Flow_Rate_Emricciolo.\n",
      "RMSE for Water_Spring_Amiata - Flow_Rate_Galleria_Alta: 0.91\n",
      "RMSE for Water_Spring_Madonna_di_Canneto - Flow_Rate_Madonna_di_Canneto: 24.09\n",
      "RMSE for Water_Spring_Lupa - Flow_Rate_Lupa: 9.42\n",
      "RMSE for River_Arno - Hydrometry_Nave_di_Rosano: 0.60\n",
      "RMSE for Lake_Bilancino - Lake_Level: 1.92\n",
      "RMSE for Lake_Bilancino - Flow_Rate: 4.32\n"
     ]
    }
   ],
   "source": [
    "import numpy as np\n",
    "\n",
    "# Initialize a dictionary to store RMSE scores\n",
    "rmse_scores = {}\n",
    "\n",
    "# Loop through the waterbody names and their corresponding target features\n",
    "for waterbody_name, targets in target_features_dict.items():\n",
    "    for target in targets:\n",
    "        # Construct the key to access predictions\n",
    "        prediction_key = f\"{waterbody_name}_{target}\"\n",
    "        \n",
    "        # Check if predictions exist for the current waterbody and target\n",
    "        if prediction_key in predictions:\n",
    "            # Get the cleaned data for the current waterbody\n",
    "            index = cleaned_waterbody_names.index(waterbody_name)\n",
    "            cleaned_data = cleaned_waterbodies[index]\n",
    "            \n",
    "            # Extract actual observed data\n",
    "            actual_data = cleaned_data[['Date', target]].copy()\n",
    "            actual_data.columns = ['ds', 'y']  # Rename for Prophet format\n",
    "            \n",
    "            # Merge the actual data with the predictions\n",
    "            merged_data = actual_data.merge(predictions[prediction_key], on='ds', how='inner')\n",
    "\n",
    "            # Calculate RMSE\n",
    "            rmse = np.sqrt(np.mean((merged_data['y'] - merged_data['yhat']) ** 2))\n",
    "            rmse_scores[prediction_key] = rmse\n",
    "\n",
    "            print(f\"RMSE for {waterbody_name} - {target}: {rmse:.2f}\")\n",
    "        else:\n",
    "            print(f\"No predictions available for {waterbody_name} - {target}.\")\n"
   ]
  }
 ],
 "metadata": {
  "kernelspec": {
   "display_name": "ifenv",
   "language": "python",
   "name": "python3"
  },
  "language_info": {
   "codemirror_mode": {
    "name": "ipython",
    "version": 3
   },
   "file_extension": ".py",
   "mimetype": "text/x-python",
   "name": "python",
   "nbconvert_exporter": "python",
   "pygments_lexer": "ipython3",
   "version": "3.10.12"
  }
 },
 "nbformat": 4,
 "nbformat_minor": 2
}
